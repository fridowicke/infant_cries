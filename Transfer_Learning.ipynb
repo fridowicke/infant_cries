{
  "cells": [
    {
      "cell_type": "markdown",
      "source": [
        "# Introduction\n",
        "\n",
        "In this notebook, we carry out the Transfer Learning Experiments.\n",
        "The other notebooks, as well as the thesis can be found at https://github.com/fridowicke/infant_cries"
      ],
      "metadata": {
        "id": "SG2HaZjNp495"
      }
    },
    {
      "cell_type": "markdown",
      "source": [
        "# Imports"
      ],
      "metadata": {
        "id": "IYPAEfNdqFCQ"
      }
    },
    {
      "cell_type": "code",
      "execution_count": null,
      "metadata": {
        "id": "Ty0QAjULmEAt"
      },
      "outputs": [],
      "source": [
        "import tensorflow as tf\n",
        "import numpy as np\n",
        "from google.colab import drive\n",
        "import json\n",
        "\n",
        "from tensorflow import keras\n",
        "from tensorflow.keras import layers, losses\n",
        "from tensorflow.keras.models import Sequential\n",
        "\n",
        "import matplotlib.pyplot as plt"
      ]
    },
    {
      "cell_type": "markdown",
      "metadata": {
        "id": "e2jgVdlFnEOw"
      },
      "source": [
        "# Loading the Data"
      ]
    },
    {
      "cell_type": "markdown",
      "metadata": {
        "id": "96ebqeLeCiUd"
      },
      "source": [
        "## Mount the Drive"
      ]
    },
    {
      "cell_type": "code",
      "execution_count": null,
      "metadata": {
        "colab": {
          "base_uri": "https://localhost:8080/"
        },
        "id": "rVFW5Z6M4bJw",
        "outputId": "b3737757-3e8c-49d5-c91c-c9101cc6bf02"
      },
      "outputs": [
        {
          "output_type": "stream",
          "name": "stdout",
          "text": [
            "Mounted at /content/drive\n"
          ]
        }
      ],
      "source": [
        "drive.mount('/content/drive')"
      ]
    },
    {
      "cell_type": "markdown",
      "metadata": {
        "id": "zfje4TgtJosG"
      },
      "source": [
        "## Save / Load Processed Data"
      ]
    },
    {
      "cell_type": "code",
      "execution_count": null,
      "metadata": {
        "id": "GqAF_UYRJs5o"
      },
      "outputs": [],
      "source": [
        "#We use json to save the spectrograms and f0s of the produced data in order to avoid computing them every time we use the notebook.\n",
        "#Helper functions\n",
        "def save(data, filename):\n",
        "    if type(data) is np.ndarray:\n",
        "      data = data.tolist()\n",
        "    with open(filename, 'w') as f:\n",
        "        json.dump(data, f, ensure_ascii=False)\n",
        "        \n",
        "def load(filename):\n",
        "    with open(filename) as data:\n",
        "        x = json.load(data)\n",
        "    return np.array(x)"
      ]
    },
    {
      "cell_type": "code",
      "execution_count": null,
      "metadata": {
        "id": "pLoWosHc9ujn"
      },
      "outputs": [],
      "source": [
        "#Load the Data\n",
        "specs_train = load(\"/content/drive/My Drive/infant_cries/data_js_final/specs_train.json\")\n",
        "y_train = load(\"/content/drive/My Drive/infant_cries/data_js_final/y_train.json\")\n",
        "specs_dev_ger = load(\"/content/drive/My Drive/infant_cries/data_js_final/specs_dev_ger.json\")\n",
        "specs_dev_jap = load(\"/content/drive/My Drive/infant_cries/data_js_final/specs_dev_jap.json\")\n",
        "specs_test_ger = load(\"/content/drive/My Drive/infant_cries/data_js_final/specs_dev_ger.json\")\n",
        "specs_test_jap = load(\"/content/drive/My Drive/infant_cries/data_js_final/specs_dev_jap.json\")\n",
        "specs_eval = load(\"/content/drive/My Drive/infant_cries/data_js_final/specs_eval.json\")\n",
        "X_dev_ger = load(\"/content/drive/My Drive/infant_cries/data_js_final/X_dev_ger.json\")\n",
        "X_dev_jap = load(\"/content/drive/My Drive/infant_cries/data_js_final/X_dev_jap.json\")\n",
        "X_test_ger = load(\"/content/drive/My Drive/infant_cries/data_js_final/X_dev_ger.json\")\n",
        "X_test_jap = load(\"/content/drive/My Drive/infant_cries/data_js_final/X_dev_jap.json\")\n",
        "X_eval = load(\"/content/drive/My Drive/infant_cries/data_js_final/X_eval.json\")\n"
      ]
    },
    {
      "cell_type": "markdown",
      "metadata": {
        "id": "ogzzbEfSKVVn"
      },
      "source": [
        "## Create Datasets"
      ]
    },
    {
      "cell_type": "code",
      "execution_count": null,
      "metadata": {
        "id": "XyXExz7TPo13"
      },
      "outputs": [],
      "source": [
        "#Size of the Dataset\n",
        "n, height, width = specs_train.shape\n",
        "n_dev_ger = specs_dev_ger.shape[0]\n",
        "n_dev_jap = specs_dev_jap.shape[0]\n",
        "n_test_ger = specs_test_ger.shape[0]\n",
        "n_test_jap = specs_test_jap.shape[0]\n",
        "n_eval = specs_eval.shape[0]\n",
        "\n",
        "#Create the ys for dev and test set\n",
        "y_dev_ger = np.zeros(n_dev_ger)\n",
        "y_dev_jap = np.ones(n_dev_jap)\n",
        "y_test_ger = np.zeros(n_test_ger)\n",
        "y_test_jap = np.ones(n_test_jap)\n",
        "\n",
        "#Reshape spectrograms for train, dev, test, eval\n",
        "specs_train = specs_train.reshape([n,height,width,1])\n",
        "specs_dev_ger = specs_dev_ger.reshape([n_dev_ger,height,width,1])\n",
        "specs_dev_jap = specs_dev_jap.reshape([n_dev_jap,height,width,1])\n",
        "specs_test_ger = specs_test_ger.reshape([n_test_ger,height,width,1])\n",
        "specs_test_jap = specs_test_jap.reshape([n_test_jap,height,width,1])\n",
        "specs_eval = specs_eval.reshape([n_eval,height,width,1])\n",
        "\n",
        "#Create mixed dev set\n",
        "specs_dev = np.zeros((2*n_dev_jap, height, width, 1))\n",
        "specs_dev[:n_dev_jap] = specs_dev_jap\n",
        "specs_dev[n_dev_jap:] = np.vstack((specs_dev_ger,specs_dev_ger,specs_dev_ger,specs_dev_ger))[:n_dev_jap]\n",
        "y_dev = np.zeros(2*n_dev_jap)\n",
        "y_dev[:n_dev_jap] = 1\n",
        "\n",
        "#Create mixed test set\n",
        "specs_test = np.zeros((2*n_test_jap, height, width, 1))\n",
        "specs_test[:n_test_jap] = specs_test_jap\n",
        "specs_test[n_test_jap:] = np.vstack((specs_test_ger,specs_test_ger,specs_test_ger,specs_test_ger))[:n_test_jap]\n",
        "y_test = np.zeros(2*n_test_jap)\n",
        "y_test[:n_test_jap] = 1\n",
        "\n",
        "#Create the eval set\n",
        "y_eval = np.zeros(n_eval)\n",
        "\n",
        "#Set the Class Names\n",
        "class_names = [\"German\", \"Japanese\"]"
      ]
    },
    {
      "cell_type": "markdown",
      "metadata": {
        "id": "HwAX5zr9C2ff"
      },
      "source": [
        "# Pretrained ResNet"
      ]
    },
    {
      "cell_type": "markdown",
      "metadata": {
        "id": "K2FLZagoFyDv"
      },
      "source": [
        "## Create Dataset and function to pretrain ResNet"
      ]
    },
    {
      "cell_type": "code",
      "execution_count": null,
      "metadata": {
        "id": "01VS9P7ADdLA"
      },
      "outputs": [],
      "source": [
        "specs_train_resnet = tf.tile(specs_train, [1,1,1,3])\n",
        "specs_dev_resnet = tf.tile(specs_dev, [1,1,1,3])\n",
        "specs_dev_ger_resnet = tf.tile(specs_dev_ger, [1,1,1,3])\n",
        "specs_dev_jap_resnet = tf.tile(specs_dev_jap, [1,1,1,3])\n",
        "\n",
        "specs_test_resnet = tf.tile(specs_test, [1,1,1,3])\n",
        "specs_test_ger_resnet = tf.tile(specs_test_ger, [1,1,1,3])\n",
        "specs_test_jap_resnet = tf.tile(specs_test_jap, [1,1,1,3])\n",
        "\n",
        "specs_eval_resnet = tf.tile(specs_eval, [1,1,1,3])\n",
        "input_shape  = (height, width,3)"
      ]
    },
    {
      "cell_type": "code",
      "execution_count": null,
      "metadata": {
        "id": "DWRZn2tfF5Cn"
      },
      "outputs": [],
      "source": [
        "def pretrain_resnet():\n",
        "  base_model = tf.keras.applications.ResNet152(weights = 'imagenet', include_top = False, input_shape = input_shape)\n",
        "  for layer in base_model.layers:\n",
        "    layer.trainable = False\n",
        "  x = layers.Flatten()(base_model.output)\n",
        "  x = layers.Dense(1000, activation='relu')(x)\n",
        "  predictions = layers.Dense(2, activation = 'softmax')(x)\n",
        "  resnet_pretrained = tf.keras.Model(inputs = base_model.input, outputs = predictions)\n",
        "  resnet_pretrained.compile(optimizer='adam', loss=losses.sparse_categorical_crossentropy, metrics=['accuracy'])\n",
        "  return resnet_pretrained\n",
        "\n"
      ]
    },
    {
      "cell_type": "markdown",
      "metadata": {
        "id": "t-y7ysCDF5m2"
      },
      "source": [
        "## Determine ideal number of epochs"
      ]
    },
    {
      "cell_type": "code",
      "execution_count": null,
      "metadata": {
        "colab": {
          "base_uri": "https://localhost:8080/",
          "height": 296
        },
        "id": "lVEX9O9nM97H",
        "outputId": "4989322c-e323-4502-e4c6-d607bc425004"
      },
      "outputs": [
        {
          "data": {
            "image/png": "[encoded data removed]",
            "text/plain": [
              "<Figure size 432x288 with 1 Axes>"
            ]
          },
          "metadata": {},
          "output_type": "display_data"
        },
        {
          "name": "stdout",
          "output_type": "stream",
          "text": [
            "31\n"
          ]
        }
      ],
      "source": [
        "resnet_pretrained = pretrain_resnet()\n",
        "dev_accs=np.zeros(40)\n",
        "for idx1 in range(5):\n",
        "  resnet_pretrained = pretrain_resnet()\n",
        "  for idx in range(40):\n",
        "    if idx%10==0:\n",
        "      print(idx1, idx)\n",
        "    history = resnet_pretrained.fit(specs_train_resnet, y_train, batch_size=64, epochs=1, verbose=0)\n",
        "    _, train_acc = resnet_pretrained.evaluate(specs_train_resnet, y_train, verbose=0)\n",
        "    _, dev_acc = resnet_pretrained.evaluate(specs_dev_resnet, y_dev, verbose=0)\n",
        "    dev_accs[idx]= dev_accs[idx]+dev_acc\n",
        "\n",
        "dev_accs = dev_accs/5\n",
        "\n",
        "fig = plt.figure()\n",
        "ax = fig.add_subplot(1, 1, 1)\n",
        "ax.plot(np.arange(40), dev_accs, color='orange', label='Accuracy on the Development Set')\n",
        "plt.xlabel('Number of Epochs')\n",
        "plt.ylabel('Accuarcy')\n",
        "plt.hlines(np.max(dev_accs), 0, np.argmax(dev_accs), colors='grey', linestyles='dashed')\n",
        "plt.vlines(np.argmax(dev_accs), np.min(dev_accs), np.max(dev_accs), colors='grey', linestyles='dashed')\n",
        "plt.legend(loc='lower right')\n",
        "plt.show()\n",
        "\n",
        "num_epochs = np.argmax(dev_accs)+1\n",
        "print(num_epochs)"
      ]
    },
    {
      "cell_type": "markdown",
      "metadata": {
        "id": "iBv6LapxF8Zu"
      },
      "source": [
        "## Test Pretrained ResNet with optimal Parameters"
      ]
    },
    {
      "cell_type": "code",
      "execution_count": null,
      "metadata": {
        "colab": {
          "base_uri": "https://localhost:8080/"
        },
        "id": "XN9Tmxa4EvSz",
        "outputId": "7e778b96-23d1-444d-efa2-278b168f32cb"
      },
      "outputs": [
        {
          "name": "stdout",
          "output_type": "stream",
          "text": [
            "0\n",
            "1\n",
            "2\n",
            "3\n",
            "4\n",
            "5\n",
            "6\n",
            "7\n",
            "8\n",
            "9\n",
            "10\n",
            "11\n",
            "12\n",
            "13\n",
            "14\n",
            "15\n",
            "16\n",
            "17\n",
            "18\n",
            "19\n",
            "20\n",
            "21\n",
            "22\n",
            "23\n",
            "24\n",
            "25\n",
            "26\n",
            "27\n",
            "28\n",
            "29\n",
            "30\n",
            "31\n",
            "32\n",
            "33\n",
            "34\n",
            "35\n",
            "36\n",
            "37\n",
            "38\n",
            "39\n",
            "40\n",
            "41\n",
            "42\n",
            "43\n",
            "44\n",
            "45\n",
            "46\n",
            "47\n",
            "48\n",
            "49\n",
            "50\n",
            "51\n",
            "52\n",
            "53\n",
            "54\n",
            "55\n",
            "56\n",
            "57\n",
            "58\n",
            "59\n",
            "60\n",
            "61\n",
            "62\n",
            "63\n",
            "64\n",
            "65\n",
            "66\n",
            "67\n",
            "68\n",
            "69\n",
            "70\n",
            "71\n",
            "72\n",
            "73\n",
            "74\n",
            "75\n",
            "76\n",
            "77\n",
            "78\n",
            "79\n",
            "80\n",
            "81\n",
            "82\n",
            "83\n",
            "84\n",
            "85\n",
            "86\n",
            "87\n",
            "88\n",
            "89\n",
            "90\n",
            "91\n",
            "92\n",
            "93\n",
            "94\n",
            "95\n",
            "96\n",
            "97\n",
            "98\n",
            "99\n"
          ]
        }
      ],
      "source": [
        "accs_dev_ResNet  = []\n",
        "accs_test_ResNet = []\n",
        "fscore_eval_ResNet   = []\n",
        "\n",
        "for idx in range(100):\n",
        "  print(idx)\n",
        "  ResNet = pretrain_resnet()\n",
        "  ResNet.fit(specs_train_resnet, y_train, batch_size=64, epochs=num_epochs, verbose=0)\n",
        "  _, acc_dev_ger = ResNet.evaluate(specs_dev_ger_resnet, y_dev_ger, verbose=0)\n",
        "  _, acc_dev_jap = ResNet.evaluate(specs_dev_jap_resnet, y_dev_jap, verbose=0)\n",
        "  _, acc_test_ger = ResNet.evaluate(specs_test_ger_resnet, y_test_ger, verbose=0)\n",
        "  _, acc_test_jap = ResNet.evaluate(specs_test_jap_resnet, y_test_jap, verbose=0)\n",
        "  _, acc_eval = ResNet.evaluate(specs_eval_resnet, y_eval, verbose=0)\n",
        "  acc_dev  = (acc_dev_ger+acc_dev_jap)/2\n",
        "  acc_test = (acc_test_ger+acc_test_jap)/2\n",
        "  accs_dev_ResNet.append(acc_dev)\n",
        "  accs_test_ResNet.append(acc_test)\n",
        "  fscore_eval_ResNet.append(2*(acc_eval)/(1+acc_eval))\n",
        "\n",
        "save(accs_dev_ResNet,\"/content/drive/My Drive/infant_cries/data_js_final/accs_dev_ResNet.json\")\n",
        "save(accs_test_ResNet,\"/content/drive/My Drive/infant_cries/data_js_final/accs_test_ResNet.json\")\n",
        "save(fscore_eval_ResNet,\"/content/drive/My Drive/infant_cries/data_js_final/fscore_eval_ResNet.json\")"
      ]
    },
    {
      "cell_type": "code",
      "execution_count": null,
      "metadata": {
        "id": "dm2Kt051bVpm"
      },
      "outputs": [],
      "source": [
        "accs_dev_ResNet      = load(\"/content/drive/My Drive/infant_cries/data_js_final/accs_dev_ResNet.json\")\n",
        "accs_test_ResNet     = load (\"/content/drive/My Drive/infant_cries/data_js_final/accs_test_ResNet.json\")\n",
        "fscore_eval_ResNet   = load(\"/content/drive/My Drive/infant_cries/data_js_final/fscore_eval_ResNet.json\")"
      ]
    },
    {
      "cell_type": "code",
      "execution_count": null,
      "metadata": {
        "colab": {
          "base_uri": "https://localhost:8080/",
          "height": 300
        },
        "id": "o4HeXiXUbi5g",
        "outputId": "23cbaa32-f6b9-4232-e12b-79b7225ee588"
      },
      "outputs": [
        {
          "output_type": "stream",
          "name": "stdout",
          "text": [
            "Mean:0.7740110024809838, Min:0.7362637519836426, Max:0.8131868243217468\n",
            "50th percentile. 0.7747252881526947\n"
          ]
        },
        {
          "output_type": "display_data",
          "data": {
            "text/plain": [
              "<Figure size 432x288 with 1 Axes>"
            ],
            "image/png": "[encoded data removed]"
          },
          "metadata": {
            "needs_background": "light"
          }
        }
      ],
      "source": [
        "print(f\"Mean:{np.mean(accs_dev_ResNet)}, Min:{np.min(accs_dev_ResNet)}, Max:{np.max(accs_dev_ResNet)}\")\n",
        "print(f\"50th percentile. {np.percentile(accs_dev_ResNet, 50)}\")\n",
        "plt.hist(accs_dev_ResNet)\n",
        "plt.axvline(np.mean(accs_dev_ResNet), color='red')\n",
        "plt.show()"
      ]
    },
    {
      "cell_type": "code",
      "execution_count": null,
      "metadata": {
        "colab": {
          "base_uri": "https://localhost:8080/",
          "height": 282
        },
        "id": "UsRoqO-rcA75",
        "outputId": "8b24bd47-53e7-4b3f-919c-7d81473c696c"
      },
      "outputs": [
        {
          "output_type": "stream",
          "name": "stdout",
          "text": [
            "Mean:0.7740110024809838, Min:0.7362637519836426, Max:0.8131868243217468\n"
          ]
        },
        {
          "output_type": "display_data",
          "data": {
            "text/plain": [
              "<Figure size 432x288 with 1 Axes>"
            ],
            "image/png": "[encoded data removed]"
          },
          "metadata": {
            "needs_background": "light"
          }
        }
      ],
      "source": [
        "print(f\"Mean:{np.mean(accs_test_ResNet)}, Min:{np.min(accs_test_ResNet)}, Max:{np.max(accs_test_ResNet)}\")\n",
        "plt.hist(accs_test_ResNet)\n",
        "plt.axvline(np.mean(accs_test_ResNet), color='red')\n",
        "plt.show()"
      ]
    },
    {
      "cell_type": "code",
      "execution_count": null,
      "metadata": {
        "colab": {
          "base_uri": "https://localhost:8080/",
          "height": 283
        },
        "id": "Q1DrgFJ6cKY5",
        "outputId": "263f70d5-b231-4874-9138-aaaafff6d62a"
      },
      "outputs": [
        {
          "output_type": "stream",
          "name": "stdout",
          "text": [
            "Mean:0.6809957085095268, Min:0.5986394523730232, Max:0.7204968773570444\n"
          ]
        },
        {
          "output_type": "display_data",
          "data": {
            "text/plain": [
              "<Figure size 432x288 with 1 Axes>"
            ],
            "image/png": "[encoded data removed]"
          },
          "metadata": {
            "needs_background": "light"
          }
        }
      ],
      "source": [
        "print(f\"Mean:{np.mean(fscore_eval_ResNet)}, Min:{np.min(fscore_eval_ResNet)}, Max:{np.max(fscore_eval_ResNet)}\")\n",
        "plt.hist(fscore_eval_ResNet)\n",
        "plt.axvline(np.mean(fscore_eval_ResNet), color='red')\n",
        "plt.show()"
      ]
    },
    {
      "cell_type": "markdown",
      "metadata": {
        "id": "pRZxRqD-ZqnR"
      },
      "source": [
        "# Pretrained EffNet"
      ]
    },
    {
      "cell_type": "markdown",
      "metadata": {
        "id": "dMhbvRvWkQFx"
      },
      "source": [
        "## Create function to obtain the pretrained EffNet"
      ]
    },
    {
      "cell_type": "code",
      "execution_count": null,
      "metadata": {
        "id": "Gv2EXGyTkOoA"
      },
      "outputs": [],
      "source": [
        "def pretrain_effnet():\n",
        "  base_model = tf.keras.applications.EfficientNetV2S(weights = 'imagenet', include_top = False, input_shape = input_shape)\n",
        "  for layer in base_model.layers:\n",
        "    layer.trainable = False\n",
        "  x = layers.Flatten()(base_model.output)\n",
        "  x = layers.Dense(1000, activation='relu')(x)\n",
        "  predictions = layers.Dense(2, activation = 'softmax')(x)\n",
        "  effnet_pretrained = tf.keras.Model(inputs = base_model.input, outputs = predictions)\n",
        "  effnet_pretrained.compile(optimizer='adam', loss=losses.sparse_categorical_crossentropy, metrics=['accuracy'])\n",
        "  return effnet_pretrained"
      ]
    },
    {
      "cell_type": "markdown",
      "metadata": {
        "id": "dSYOe04VknDj"
      },
      "source": [
        "## Determine ideal number of epochs"
      ]
    },
    {
      "cell_type": "code",
      "execution_count": null,
      "metadata": {
        "colab": {
          "base_uri": "https://localhost:8080/",
          "height": 644
        },
        "id": "kHyPcf5KSSxu",
        "outputId": "2286770d-d2d7-4c99-d16f-cc6f9675f0a8"
      },
      "outputs": [
        {
          "name": "stdout",
          "output_type": "stream",
          "text": [
            "0 0\n",
            "0 10\n",
            "0 20\n",
            "0 30\n",
            "1 0\n",
            "1 10\n",
            "1 20\n",
            "1 30\n",
            "2 0\n",
            "2 10\n",
            "2 20\n",
            "2 30\n",
            "3 0\n",
            "3 10\n",
            "3 20\n",
            "3 30\n",
            "4 0\n",
            "4 10\n",
            "4 20\n",
            "4 30\n"
          ]
        },
        {
          "data": {
            "image/png": "[encoded data removed]",
            "text/plain": [
              "<Figure size 432x288 with 1 Axes>"
            ]
          },
          "metadata": {},
          "output_type": "display_data"
        },
        {
          "name": "stdout",
          "output_type": "stream",
          "text": [
            "26\n"
          ]
        }
      ],
      "source": [
        "effnet_pretrained = pretrain_effnet()\n",
        "\n",
        "dev_accs=np.zeros(40)\n",
        "for idx1 in range(5):\n",
        "  effnet_pretrained = pretrain_effnet()\n",
        "  for idx in range(40):\n",
        "    if idx%10==0:\n",
        "      print(idx1, idx)\n",
        "    history = effnet_pretrained.fit(specs_train_resnet, y_train, batch_size=64, epochs=1, verbose=0)\n",
        "    _, train_acc = effnet_pretrained.evaluate(specs_train_resnet, y_train, verbose=0)\n",
        "    _, dev_acc = effnet_pretrained.evaluate(specs_dev_resnet, y_dev, verbose=0)\n",
        "    dev_accs[idx]= dev_accs[idx]+dev_acc\n",
        "\n",
        "dev_accs = dev_accs/5\n",
        "\n",
        "fig = plt.figure()\n",
        "ax = fig.add_subplot(1, 1, 1)\n",
        "ax.plot(np.arange(40), dev_accs, color='orange', label='Accuracy on the Development Set')\n",
        "plt.xlabel('Number of Epochs')\n",
        "plt.ylabel('Accuarcy')\n",
        "plt.hlines(np.max(dev_accs), 0, np.argmax(dev_accs), colors='grey', linestyles='dashed')\n",
        "plt.vlines(np.argmax(dev_accs), np.min(dev_accs), np.max(dev_accs), colors='grey', linestyles='dashed')\n",
        "plt.legend(loc='lower right')\n",
        "plt.show()\n",
        "\n",
        "num_epochs = np.argmax(dev_accs)+1\n",
        "print(num_epochs)"
      ]
    },
    {
      "cell_type": "markdown",
      "metadata": {
        "id": "JAQN1O1kkw6y"
      },
      "source": [
        "## Test Pretrained EffNet with optimal Parameters"
      ]
    },
    {
      "cell_type": "code",
      "execution_count": null,
      "metadata": {
        "colab": {
          "background_save": true,
          "base_uri": "https://localhost:8080/"
        },
        "id": "N2CDpr7aajmK",
        "outputId": "c0390ca4-4873-404d-b411-0fa12e4de42a"
      },
      "outputs": [
        {
          "name": "stdout",
          "output_type": "stream",
          "text": [
            "0\n",
            "1\n",
            "2\n",
            "3\n",
            "4\n",
            "5\n",
            "6\n",
            "7\n",
            "8\n",
            "9\n",
            "10\n",
            "11\n",
            "12\n",
            "13\n",
            "14\n",
            "15\n",
            "16\n",
            "17\n",
            "18\n",
            "19\n",
            "20\n",
            "21\n",
            "22\n",
            "23\n",
            "24\n",
            "25\n",
            "26\n",
            "27\n",
            "28\n",
            "29\n",
            "30\n",
            "31\n",
            "32\n",
            "33\n",
            "34\n",
            "35\n",
            "36\n",
            "37\n",
            "38\n",
            "39\n",
            "40\n",
            "41\n",
            "42\n",
            "43\n",
            "44\n",
            "45\n",
            "46\n",
            "47\n",
            "48\n",
            "49\n",
            "50\n",
            "51\n",
            "52\n",
            "53\n",
            "54\n",
            "55\n",
            "56\n",
            "57\n",
            "58\n",
            "59\n",
            "60\n",
            "61\n",
            "62\n",
            "63\n",
            "64\n",
            "65\n",
            "66\n",
            "67\n",
            "68\n",
            "69\n",
            "70\n",
            "71\n",
            "72\n",
            "73\n",
            "74\n",
            "75\n",
            "76\n",
            "77\n",
            "78\n",
            "79\n",
            "80\n",
            "81\n",
            "82\n",
            "83\n",
            "84\n",
            "85\n",
            "86\n",
            "87\n",
            "88\n",
            "89\n",
            "90\n",
            "91\n",
            "92\n",
            "93\n",
            "94\n",
            "95\n",
            "96\n",
            "97\n",
            "98\n",
            "99\n"
          ]
        }
      ],
      "source": [
        "accs_dev_EffNet  = []\n",
        "accs_test_EffNet = []\n",
        "fscore_eval_EffNet   = []\n",
        "\n",
        "for idx in range(100):\n",
        "  print(idx)\n",
        "  EffNet = pretrain_effnet()\n",
        "  EffNet.fit(specs_train_resnet, y_train, batch_size=64, epochs=num_epochs, verbose=0)\n",
        "  _, acc_dev_ger = EffNet.evaluate(specs_dev_ger_resnet, y_dev_ger, verbose=0)\n",
        "  _, acc_dev_jap = EffNet.evaluate(specs_dev_jap_resnet, y_dev_jap, verbose=0)\n",
        "  _, acc_test_ger = EffNet.evaluate(specs_test_ger_resnet, y_test_ger, verbose=0)\n",
        "  _, acc_test_jap = EffNet.evaluate(specs_test_jap_resnet, y_test_jap, verbose=0)\n",
        "  _, acc_eval = EffNet.evaluate(specs_eval_resnet, y_eval, verbose=0)\n",
        "  acc_dev  = (acc_dev_ger+acc_dev_jap)/2\n",
        "  acc_test = (acc_test_ger+acc_test_jap)/2\n",
        "  accs_dev_EffNet.append(acc_dev)\n",
        "  accs_test_EffNet.append(acc_test)\n",
        "  fscore_eval_EffNet.append(2*(acc_eval)/(1+acc_eval))\n",
        "\n",
        "save(accs_dev_EffNet,\"/content/drive/My Drive/infant_cries/data_js_final/accs_dev_EffNet.json\")\n",
        "save(accs_test_EffNet,\"/content/drive/My Drive/infant_cries/data_js_final/accs_test_EffNet.json\")\n",
        "save(fscore_eval_EffNet,\"/content/drive/My Drive/infant_cries/data_js_final/fscore_eval_EffNet.json\")"
      ]
    },
    {
      "cell_type": "code",
      "execution_count": null,
      "metadata": {
        "id": "JYvK2lbTlN4G"
      },
      "outputs": [],
      "source": [
        "accs_dev_EffNet  = load(\"/content/drive/My Drive/infant_cries/data_js_final/accs_dev_EffNet.json\")\n",
        "accs_test_EffNet = load (\"/content/drive/My Drive/infant_cries/data_js_final/accs_test_EffNet.json\")\n",
        "fscore_eval_EffNet   = load(\"/content/drive/My Drive/infant_cries/data_js_final/fscore_eval_EffNet.json\")"
      ]
    },
    {
      "cell_type": "code",
      "execution_count": null,
      "metadata": {
        "colab": {
          "base_uri": "https://localhost:8080/",
          "height": 300
        },
        "id": "gyAlvijUlN4H",
        "outputId": "3e63f3da-dc91-4f44-e49c-91f8e4f2986e"
      },
      "outputs": [
        {
          "output_type": "stream",
          "name": "stdout",
          "text": [
            "Mean:0.7453296855092049, Min:0.7087912261486053, Max:0.7802197933197021\n",
            "50th percentile. 0.7472527623176575\n"
          ]
        },
        {
          "output_type": "display_data",
          "data": {
            "text/plain": [
              "<Figure size 432x288 with 1 Axes>"
            ],
            "image/png": "[encoded data removed]"
          },
          "metadata": {
            "needs_background": "light"
          }
        }
      ],
      "source": [
        "print(f\"Mean:{np.mean(accs_dev_EffNet)}, Min:{np.min(accs_dev_EffNet)}, Max:{np.max(accs_dev_EffNet)}\")\n",
        "print(f\"50th percentile. {np.percentile(accs_dev_EffNet, 50)}\")\n",
        "plt.hist(accs_dev_EffNet)\n",
        "plt.axvline(np.mean(accs_dev_EffNet), color='red')\n",
        "plt.show()"
      ]
    },
    {
      "cell_type": "code",
      "execution_count": null,
      "metadata": {
        "colab": {
          "base_uri": "https://localhost:8080/",
          "height": 282
        },
        "id": "sqBmaMuRlN4I",
        "outputId": "eb89a53a-d5ab-4ee7-ef69-7af470b6d2bf"
      },
      "outputs": [
        {
          "output_type": "stream",
          "name": "stdout",
          "text": [
            "Mean:0.7453296855092049, Min:0.7087912261486053, Max:0.7802197933197021\n"
          ]
        },
        {
          "output_type": "display_data",
          "data": {
            "text/plain": [
              "<Figure size 432x288 with 1 Axes>"
            ],
            "image/png": "[encoded data removed]"
          },
          "metadata": {
            "needs_background": "light"
          }
        }
      ],
      "source": [
        "print(f\"Mean:{np.mean(accs_test_EffNet)}, Min:{np.min(accs_test_EffNet)}, Max:{np.max(accs_test_EffNet)}\")\n",
        "plt.hist(accs_test_EffNet)\n",
        "plt.axvline(np.mean(accs_test_EffNet), color='red')\n",
        "plt.show()"
      ]
    },
    {
      "cell_type": "code",
      "execution_count": null,
      "metadata": {
        "colab": {
          "base_uri": "https://localhost:8080/",
          "height": 285
        },
        "id": "MTTxWuVrlN4I",
        "outputId": "cf472d45-4408-4480-e12b-230a2b56a7db"
      },
      "outputs": [
        {
          "output_type": "stream",
          "name": "stdout",
          "text": [
            "Mean:0.72101389024702, Min:0.6266666759437984, Max:0.7953216256694506\n"
          ]
        },
        {
          "output_type": "display_data",
          "data": {
            "text/plain": [
              "<Figure size 432x288 with 1 Axes>"
            ],
            "image/png": "[encoded data removed]"
          },
          "metadata": {
            "needs_background": "light"
          }
        }
      ],
      "source": [
        "print(f\"Mean:{np.mean(fscore_eval_EffNet)}, Min:{np.min(fscore_eval_EffNet)}, Max:{np.max(fscore_eval_EffNet)}\")\n",
        "plt.hist(fscore_eval_EffNet)\n",
        "plt.axvline(np.mean(fscore_eval_EffNet), color='red')\n",
        "plt.show()"
      ]
    }
  ],
  "metadata": {
    "accelerator": "GPU",
    "colab": {
      "background_execution": "on",
      "collapsed_sections": [],
      "machine_shape": "hm",
      "provenance": []
    },
    "kernelspec": {
      "display_name": "Python 3",
      "name": "python3"
    },
    "language_info": {
      "name": "python"
    }
  },
  "nbformat": 4,
  "nbformat_minor": 0
}