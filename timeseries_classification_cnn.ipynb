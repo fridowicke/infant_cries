{
  "cells": [
    {
      "cell_type": "markdown",
      "metadata": {
        "id": "3e2V5lUgmNaG"
      },
      "source": [
        "# Introduction\n",
        "\n",
        "In this Notebook, I apply the cnnclassification architecture from this paper: https://arxiv.org/pdf/1611.06455.pdf to the infant cry classification problem. Some of the Code is adapted from official TensorFlow ressources, which are linked below.\n",
        "The other notebooks, as well as the thesis can be found at https://github.com/fridowicke/infant_cries"
      ]
    },
    {
      "cell_type": "markdown",
      "source": [
        "# Imports"
      ],
      "metadata": {
        "id": "xiqiY_PBqrJ2"
      }
    },
    {
      "cell_type": "code",
      "execution_count": null,
      "metadata": {
        "id": "Ty0QAjULmEAt"
      },
      "outputs": [],
      "source": [
        "import tensorflow as tf\n",
        "import numpy as np\n",
        "from google.colab import drive\n",
        "import json\n",
        "\n",
        "from tensorflow import keras\n",
        "from tensorflow.keras import layers, losses\n",
        "from tensorflow.keras.models import Sequential\n",
        "\n",
        "import matplotlib.pyplot as plt"
      ]
    },
    {
      "cell_type": "markdown",
      "metadata": {
        "id": "e2jgVdlFnEOw"
      },
      "source": [
        "# Loading the Data"
      ]
    },
    {
      "cell_type": "markdown",
      "metadata": {
        "id": "96ebqeLeCiUd"
      },
      "source": [
        "## Mount the Drive"
      ]
    },
    {
      "cell_type": "code",
      "execution_count": null,
      "metadata": {
        "colab": {
          "base_uri": "https://localhost:8080/"
        },
        "id": "rVFW5Z6M4bJw",
        "outputId": "30dcc75b-88e3-4dd0-ab64-b900d75f8911"
      },
      "outputs": [
        {
          "output_type": "stream",
          "name": "stdout",
          "text": [
            "Mounted at /content/drive\n"
          ]
        }
      ],
      "source": [
        "drive.mount('/content/drive')"
      ]
    },
    {
      "cell_type": "markdown",
      "metadata": {
        "id": "zfje4TgtJosG"
      },
      "source": [
        "## Save / Load Processed Data"
      ]
    },
    {
      "cell_type": "code",
      "execution_count": null,
      "metadata": {
        "id": "GqAF_UYRJs5o"
      },
      "outputs": [],
      "source": [
        "#Helper function\n",
        "def load(filename):\n",
        "    with open(filename) as data:\n",
        "        x = json.load(data)\n",
        "    return np.array(x)\n",
        "\n",
        "#We use json to save the spectrograms and f0s of the produced data in order to avoid computing them every time we use the notebook.\n",
        "#Helper functions\n",
        "def save(data, filename):\n",
        "    if type(data) is np.ndarray:\n",
        "      data = data.tolist()\n",
        "    with open(filename, 'w') as f:\n",
        "        json.dump(data, f, ensure_ascii=False)"
      ]
    },
    {
      "cell_type": "code",
      "execution_count": null,
      "metadata": {
        "id": "ZsQr9CFl4UZK"
      },
      "outputs": [],
      "source": [
        "#Load the f0s\n",
        "\n",
        "fs_train    = load(\"/content/drive/My Drive/infant_cries/data_js_final/fs_train.json\")\n",
        "fs_dev_ger  = load(\"/content/drive/My Drive/infant_cries/data_js_final/fs_dev_ger.json\")\n",
        "fs_dev_jap  = load(\"/content/drive/My Drive/infant_cries/data_js_final/fs_dev_jap.json\")\n",
        "fs_test_ger  = load(\"/content/drive/My Drive/infant_cries/data_js_final/fs_test_ger.json\")\n",
        "fs_test_jap  = load(\"/content/drive/My Drive/infant_cries/data_js_final/fs_test_jap.json\")\n",
        "fs_eval     = (load(\"/content/drive/My Drive/infant_cries/data_js_final/fs_eval.json\"))\n",
        "y_train      = load(\"/content/drive/My Drive/infant_cries/data_js_final/y_train.json\")"
      ]
    },
    {
      "cell_type": "markdown",
      "metadata": {
        "id": "ogzzbEfSKVVn"
      },
      "source": [
        "## Create Datasets"
      ]
    },
    {
      "cell_type": "code",
      "execution_count": null,
      "metadata": {
        "id": "7llaQRQdOSti"
      },
      "outputs": [],
      "source": [
        "#Reshape the f_s\n",
        "input_shape = fs_train.shape[1:]\n",
        "fs_train = fs_train.reshape((fs_train.shape[0], 1, fs_train.shape[1],))\n",
        "fs_dev_ger = fs_dev_ger.reshape((fs_dev_ger.shape[0], 1, fs_dev_ger.shape[1]))\n",
        "fs_dev_jap = fs_dev_jap.reshape((fs_dev_jap.shape[0], 1, fs_dev_jap.shape[1]))\n",
        "fs_test_ger = fs_test_ger.reshape((fs_test_ger.shape[0], 1, fs_test_ger.shape[1]))\n",
        "fs_test_jap = fs_test_jap.reshape((fs_test_jap.shape[0], 1, fs_test_jap.shape[1]))\n",
        "fs_eval = fs_eval.reshape((fs_eval.shape[0], 1, fs_eval.shape[1]))\n",
        "\n",
        "\n",
        "\n",
        "#Compute the number of samples\n",
        "n_dev_ger = fs_dev_ger.shape[0]\n",
        "n_dev_jap = fs_dev_jap.shape[0]\n",
        "n_test_ger = fs_test_ger.shape[0]\n",
        "n_test_jap = fs_test_jap.shape[0]\n",
        "n_eval = fs_eval.shape[0]\n",
        "\n",
        "#Create y_s for dev, test and eval\n",
        "y_dev_ger = np.zeros(n_dev_ger)\n",
        "y_dev_jap = np.ones(n_dev_jap)\n",
        "y_test_ger = np.zeros(n_test_ger)\n",
        "y_test_jap = np.ones(n_test_jap)\n",
        "y_eval    = np.zeros(n_eval)"
      ]
    },
    {
      "cell_type": "markdown",
      "metadata": {
        "id": "KMxRvRh8ArZu"
      },
      "source": [
        "# CNN"
      ]
    },
    {
      "cell_type": "markdown",
      "source": [
        "## Function to build the model"
      ],
      "metadata": {
        "id": "NQAUKCETyzdz"
      }
    },
    {
      "cell_type": "code",
      "execution_count": null,
      "metadata": {
        "id": "HtlEpAKPS3NI"
      },
      "outputs": [],
      "source": [
        "#Source: https://keras.io/examples/timeseries/timeseries_classification_from_scratch/\n",
        "#Paper https://arxiv.org/pdf/1611.06455.pdf\n",
        "num_classes=2\n",
        "\n",
        "def build_cnn(input_shape=fs_train.shape[1:]):\n",
        "    input_layer = keras.layers.Input(input_shape)\n",
        "\n",
        "    conv1 = keras.layers.Conv1D(filters=64, kernel_size=3, padding=\"same\")(input_layer)\n",
        "    conv1 = keras.layers.BatchNormalization()(conv1)\n",
        "    conv1 = keras.layers.ReLU()(conv1)\n",
        "    conv2 = keras.layers.Conv1D(filters=64, kernel_size=3, padding=\"same\")(conv1)\n",
        "    conv2 = keras.layers.BatchNormalization()(conv2)\n",
        "    conv2 = keras.layers.ReLU()(conv2)\n",
        "    conv3 = keras.layers.Conv1D(filters=64, kernel_size=3, padding=\"same\")(conv2)\n",
        "    conv3 = keras.layers.BatchNormalization()(conv3)\n",
        "    conv3 = keras.layers.ReLU()(conv3)\n",
        "    gap = keras.layers.GlobalAveragePooling1D()(conv3)\n",
        "    output_layer = keras.layers.Dense(num_classes, activation=\"softmax\")(gap)\n",
        "    return keras.models.Model(inputs=input_layer, outputs=output_layer)"
      ]
    },
    {
      "cell_type": "markdown",
      "source": [
        "## Finding the right number of epochs"
      ],
      "metadata": {
        "id": "YDnQviR0y4Yg"
      }
    },
    {
      "cell_type": "code",
      "source": [
        "cnn = build_cnn()\n",
        "cnn.compile(optimizer=\"Adam\", loss='sparse_categorical_crossentropy', metrics=['accuracy'])\n",
        "accs_dev = np.zeros(100)\n",
        "for idx1 in range(10):\n",
        "  for idx in range(100):\n",
        "    print(idx)\n",
        "    cnn.fit(fs_train, y_train, epochs = 1, verbose=0)\n",
        "    _, acc_dev_ger = cnn.evaluate(fs_dev_ger, y_dev_ger, verbose=0)\n",
        "    _, acc_dev_jap = cnn.evaluate(fs_dev_jap, y_dev_jap, verbose=0)\n",
        "    acc_dev  = (acc_dev_ger+acc_dev_jap)/2\n",
        "    accs_dev[idx] = accs_dev[idx]+acc_dev\n",
        "\n",
        "accs_dev = accs_dev/10\n",
        "\n",
        "fig = plt.figure()\n",
        "ax = fig.add_subplot(1, 1, 1)\n",
        "ax.plot(np.arange(100), accs_dev, color='orange', label='Accuracy on the Development Set')\n",
        "plt.xlabel('Number of Epochs')\n",
        "plt.ylabel('Accuarcy')\n",
        "plt.hlines(np.max(accs_dev), 0, np.argmax(accs_dev), colors='grey', linestyles='dashed')\n",
        "plt.vlines(np.argmax(accs_dev), np.min(accs_dev), np.max(accs_dev), colors='grey', linestyles='dashed')\n",
        "plt.legend(loc='lower right')\n",
        "plt.show()"
      ],
      "metadata": {
        "id": "HYLFqfTOvzCM"
      },
      "execution_count": null,
      "outputs": []
    },
    {
      "cell_type": "code",
      "source": [
        "np.argmax(accs_dev)"
      ],
      "metadata": {
        "colab": {
          "base_uri": "https://localhost:8080/"
        },
        "id": "RQSaoPxfz5Gq",
        "outputId": "cde8b3aa-01ad-4cda-cc59-9787658a82ff"
      },
      "execution_count": null,
      "outputs": [
        {
          "output_type": "execute_result",
          "data": {
            "text/plain": [
              "70"
            ]
          },
          "metadata": {},
          "execution_count": 18
        }
      ]
    },
    {
      "cell_type": "markdown",
      "source": [
        "## Testing the optimal values for 100 runs"
      ],
      "metadata": {
        "id": "Xoi65peEy9x7"
      }
    },
    {
      "cell_type": "code",
      "execution_count": null,
      "metadata": {
        "id": "_wTQUMJrHStA"
      },
      "outputs": [],
      "source": [
        "accs_dev_1DCnn  = []\n",
        "accs_test_1DCnn = []\n",
        "fscore_eval_1DCnn   = []\n",
        "\n",
        "for idx in range(100):\n",
        "  print(idx)\n",
        "  cnn = build_cnn()\n",
        "  cnn.compile(optimizer=\"Adam\", loss='sparse_categorical_crossentropy', metrics=['accuracy'])\n",
        "  cnn.fit(fs_train, y_train, epochs = 70, verbose=0)\n",
        "  _, acc_dev_ger = cnn.evaluate(fs_dev_ger, y_dev_ger, verbose=0)\n",
        "  _, acc_dev_jap = cnn.evaluate(fs_dev_jap, y_dev_jap, verbose=0)\n",
        "  _, acc_test_ger = cnn.evaluate(fs_test_ger, y_test_ger, verbose=0)\n",
        "  _, acc_test_jap = cnn.evaluate(fs_test_jap, y_test_jap, verbose=0)\n",
        "  _, acc_eval = cnn.evaluate(fs_eval, y_eval, verbose=0)\n",
        "  acc_dev  = (acc_dev_ger+acc_dev_jap)/2\n",
        "  acc_test = (acc_test_ger+acc_test_jap)/2\n",
        "  accs_dev_1DCnn.append(acc_dev)\n",
        "  accs_test_1DCnn.append(acc_test)\n",
        "  fscore_eval_1DCnn.append(2*(acc_eval)/(1+acc_eval))\n",
        "\n",
        "save(accs_dev_1DCnn,\"/content/drive/My Drive/infant_cries/data_js_final/accs_dev_1DCnn.json\")\n",
        "save(accs_test_1DCnn,\"/content/drive/My Drive/infant_cries/data_js_final/accs_test_1DCnn.json\")\n",
        "save(fscore_eval_1DCnn,\"/content/drive/My Drive/infant_cries/data_js_final/fscore_eval_1DCnn.json\")"
      ]
    },
    {
      "cell_type": "code",
      "execution_count": null,
      "metadata": {
        "id": "dm2Kt051bVpm"
      },
      "outputs": [],
      "source": [
        "accs_dev_1DCnn  = load(\"/content/drive/My Drive/infant_cries/data_js_final/accs_dev_1DCnn.json\")\n",
        "accs_test_1DCnn = load (\"/content/drive/My Drive/infant_cries/data_js_final/accs_test_1DCnn.json\")\n",
        "fscore_eval_1DCnn   = load(\"/content/drive/My Drive/infant_cries/data_js_final/fscore_eval_1DCnn.json\")"
      ]
    },
    {
      "cell_type": "code",
      "execution_count": null,
      "metadata": {
        "id": "o4HeXiXUbi5g",
        "colab": {
          "base_uri": "https://localhost:8080/",
          "height": 300
        },
        "outputId": "649933ae-fc64-4464-d86d-1b3adb042294"
      },
      "outputs": [
        {
          "output_type": "stream",
          "name": "stdout",
          "text": [
            "Mean:0.49692309081554414, Min:0.42307692766189575, Max:0.5714285969734192\n",
            "50th percentile. 0.49450550973415375\n"
          ]
        },
        {
          "output_type": "display_data",
          "data": {
            "text/plain": [
              "<Figure size 432x288 with 1 Axes>"
            ],
            "image/png": "[encoded data removed]"
          },
          "metadata": {
            "needs_background": "light"
          }
        }
      ],
      "source": [
        "print(f\"Mean:{np.mean(accs_dev_1DCnn)}, Min:{np.min(accs_dev_1DCnn)}, Max:{np.max(accs_dev_1DCnn)}\")\n",
        "print(f\"50th percentile. {np.percentile(accs_dev_1DCnn, 50)}\")\n",
        "plt.hist(accs_dev_1DCnn)\n",
        "plt.axvline(np.mean(accs_dev_1DCnn), color='red')\n",
        "plt.show()"
      ]
    },
    {
      "cell_type": "code",
      "execution_count": null,
      "metadata": {
        "id": "UsRoqO-rcA75",
        "colab": {
          "base_uri": "https://localhost:8080/",
          "height": 285
        },
        "outputId": "399edfba-71cd-4f4b-c7f9-9ebfbbe546e5"
      },
      "outputs": [
        {
          "output_type": "stream",
          "name": "stdout",
          "text": [
            "Mean:0.4792592588067055, Min:0.37654320895671844, Max:0.5555555522441864\n"
          ]
        },
        {
          "output_type": "display_data",
          "data": {
            "text/plain": [
              "<Figure size 432x288 with 1 Axes>"
            ],
            "image/png": "[encoded data removed]"
          },
          "metadata": {
            "needs_background": "light"
          }
        }
      ],
      "source": [
        "print(f\"Mean:{np.mean(accs_test_1DCnn)}, Min:{np.min(accs_test_1DCnn)}, Max:{np.max(accs_test_1DCnn)}\")\n",
        "plt.hist(accs_test_1DCnn)\n",
        "plt.axvline(np.mean(accs_test_1DCnn), color='red')\n",
        "plt.show()"
      ]
    },
    {
      "cell_type": "code",
      "execution_count": null,
      "metadata": {
        "id": "Q1DrgFJ6cKY5",
        "colab": {
          "base_uri": "https://localhost:8080/",
          "height": 282
        },
        "outputId": "6a67da36-591b-45de-c258-143c990e41e7"
      },
      "outputs": [
        {
          "output_type": "stream",
          "name": "stdout",
          "text": [
            "Mean:0.6210246988186237, Min:0.5072463616600458, Max:0.728395064535564\n"
          ]
        },
        {
          "output_type": "display_data",
          "data": {
            "text/plain": [
              "<Figure size 432x288 with 1 Axes>"
            ],
            "image/png": "[encoded data removed]"
          },
          "metadata": {
            "needs_background": "light"
          }
        }
      ],
      "source": [
        "print(f\"Mean:{np.mean(fscore_eval_1DCnn)}, Min:{np.min(fscore_eval_1DCnn)}, Max:{np.max(fscore_eval_1DCnn)}\")\n",
        "plt.hist(fscore_eval_1DCnn)\n",
        "plt.axvline(np.mean(fscore_eval_1DCnn), color='red')\n",
        "plt.show()"
      ]
    }
  ],
  "metadata": {
    "accelerator": "GPU",
    "colab": {
      "background_execution": "on",
      "collapsed_sections": [
        "5CCC5Rin2mcw",
        "TIH0OL0m5-d8",
        "HwAX5zr9C2ff",
        "lBnZz05mOuAy",
        "hI_mbd5YFcl_"
      ],
      "machine_shape": "hm",
      "provenance": []
    },
    "kernelspec": {
      "display_name": "Python 3",
      "name": "python3"
    },
    "language_info": {
      "name": "python"
    }
  },
  "nbformat": 4,
  "nbformat_minor": 0
}