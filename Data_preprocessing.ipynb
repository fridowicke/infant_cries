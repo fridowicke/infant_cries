{
  "cells": [
    {
      "cell_type": "markdown",
      "metadata": {
        "id": "3e2V5lUgmNaG"
      },
      "source": [
        "# Introduction\n",
        "\n",
        "In this notebook, we will do the data-preprocessing for the infant-cry classification project. \n",
        "\n",
        "The other notebooks, as well as the thesis can be found at https://github.com/fridowicke/infant_cries"
      ]
    },
    {
      "cell_type": "markdown",
      "source": [
        "# Imports"
      ],
      "metadata": {
        "id": "mU0BeQd9rKqx"
      }
    },
    {
      "cell_type": "code",
      "execution_count": null,
      "metadata": {
        "id": "Ty0QAjULmEAt"
      },
      "outputs": [],
      "source": [
        "import tensorflow as tf\n",
        "import numpy as np\n",
        "from numpy.linalg import norm\n",
        "import scipy as sp\n",
        "import librosa\n",
        "import librosa.display\n",
        "import os\n",
        "from google.colab import drive\n",
        "import pandas as pd\n",
        "import matplotlib.pyplot as plt\n",
        "import PIL\n",
        "from  matplotlib.colors import LinearSegmentedColormap\n",
        "import scipy\n",
        "import random\n",
        "from IPython.display import Audio, display\n",
        "import itertools\n",
        "import random\n",
        "import json\n"
      ]
    },
    {
      "cell_type": "markdown",
      "metadata": {
        "id": "Bj_99yyoHNgM"
      },
      "source": [
        "# Auxiliary functions"
      ]
    },
    {
      "cell_type": "code",
      "execution_count": null,
      "metadata": {
        "id": "1t9E6m94SJDm"
      },
      "outputs": [],
      "source": [
        "#This function prints statistics for a given Dataframe\n",
        "def data_statistics(data):\n",
        "  #Total Number of Datapoints before Outlier Removal\n",
        "  num_babies = int(data[['origin']].count())\n",
        "  #Number of Japanese Babies\n",
        "  num_jap    = int(data[['origin']].sum())\n",
        "  #Number of German Babies\n",
        "  num_ger    = num_babies-num_jap\n",
        "  print(f\"Total Number of Samples: {num_babies}\")\n",
        "  print(f\"Number of Japanese Samples: {num_jap}\\nNumber of German Samples: {num_ger}\")\n",
        "  unum_jap = data[data['origin']==1][\"number\"].nunique()\n",
        "  unum_ger = data[data['origin']==0][\"number\"].nunique()\n",
        "  print(f\"Total Number of Babies: {unum_jap+unum_ger}\")\n",
        "  print(f\"Number of Japanese Babies: {unum_jap}\\nNumber of German Babies: {unum_ger}\")\n",
        "  min_dur, max_dur = float(data[['duration']].min()), float(data[['duration']].max())\n",
        "  print(f\"Durations of the recordings range from {min_dur/sr} to {max_dur/sr} seconds.\")\n",
        "\n"
      ]
    },
    {
      "cell_type": "markdown",
      "metadata": {
        "id": "96ebqeLeCiUd"
      },
      "source": [
        "# Mount the Drive and load the files"
      ]
    },
    {
      "cell_type": "markdown",
      "metadata": {
        "id": "c2KQhGYtGy8_"
      },
      "source": [
        "## Mount the Drive"
      ]
    },
    {
      "cell_type": "code",
      "execution_count": null,
      "metadata": {
        "colab": {
          "base_uri": "https://localhost:8080/"
        },
        "id": "rVFW5Z6M4bJw",
        "outputId": "0363687b-40d9-44dd-d654-2220c5b95b30"
      },
      "outputs": [
        {
          "name": "stdout",
          "output_type": "stream",
          "text": [
            "Mounted at /content/drive\n"
          ]
        }
      ],
      "source": [
        "drive.mount('/content/drive')\n",
        "directory = \"/content/drive/My Drive/infant_cries/data\"\n",
        "eval_dir  = \"/content/drive/My Drive/infant_cries/data_eval_german\""
      ]
    },
    {
      "cell_type": "markdown",
      "metadata": {
        "id": "q89VCrfaGqRg"
      },
      "source": [
        "## Load the Training & Dev Set"
      ]
    },
    {
      "cell_type": "code",
      "execution_count": null,
      "metadata": {
        "id": "-WPLBnHOii8k"
      },
      "outputs": [],
      "source": [
        "#Setting the Sample Rate\n",
        "sr=16000\n",
        "\n",
        "#Creating a Pandas Dataframe for loading the cries\n",
        "name, origin, number, age, id = [], [], [], [], []\n",
        "for filename in os.listdir(directory):\n",
        "    f = filename\n",
        "    #f = os.path.join(directory, filename)\n",
        "    if f[0] == 'J' or f[0] == 'G':\n",
        "      name.append(f)\n",
        "      if f[0] == 'J':\n",
        "        origin.append(1)\n",
        "      else:\n",
        "        origin.append(0)\n",
        "      number.append(int(f[1:3]))\n",
        "      age.append(int(f[3:5]))\n",
        "      id.append(f[5:8])\n",
        "\n",
        "d = {'filename': name, 'origin': origin, 'number': number, 'age': age, 'id': id}\n",
        "df = pd.DataFrame(data = d)\n",
        "\n",
        "durations, signals, origins = [], [], []\n",
        "for idx, sample in enumerate(df.iterrows()):\n",
        "  filename = sample[1][0]\n",
        "  origins.append(sample[1][1])\n",
        "  path     = directory + '/' + filename\n",
        "  signal,_ = librosa.load(path, sr=sr)\n",
        "  signals.append(signal)\n",
        "  durations.append(signal.shape[0])\n",
        "\n",
        "order = np.argsort(number)\n",
        "name = [name[i] for i in order]\n",
        "origin = [origin[i] for i in order]\n",
        "number = [number[i] for i in order]\n",
        "age = [age[i] for i in order]\n",
        "id = [id[i] for i in order]\n",
        "durations = [durations[i] for i in order]\n",
        "signals = [signals[i] for i in order]\n",
        "\n",
        "d = {'filename': name, 'origin': origin, 'number': number, 'age': age, 'id': id, 'duration': durations, 'signal': signals}\n",
        "df = pd.DataFrame(data = d)#.sort_values(by=['number'])"
      ]
    },
    {
      "cell_type": "markdown",
      "metadata": {
        "id": "ZYdm3vYYHpXG"
      },
      "source": [
        "## Removing Outliers (in terms of length of recording)"
      ]
    },
    {
      "cell_type": "code",
      "execution_count": null,
      "metadata": {
        "colab": {
          "base_uri": "https://localhost:8080/",
          "height": 281
        },
        "id": "BFMRIh-aaZn9",
        "outputId": "e6786386-fb5f-42b8-e951-1349067db582"
      },
      "outputs": [
        {
          "data": {
            "image/png": "[encoded data removed]",
            "text/plain": [
              "<Figure size 1152x288 with 2 Axes>"
            ]
          },
          "metadata": {},
          "output_type": "display_data"
        }
      ],
      "source": [
        "#Some of the recordings are outliers (very short/long)\n",
        "#so we are going to remove them\n",
        "\n",
        "durations0 = np.sort(np.array(durations))\n",
        "mean0, std0, range_val0 = np.mean(durations0), np.std(durations0), np.ptp(durations0)\n",
        "\n",
        "num_rm = 171\n",
        "ds = np.array(durations)\n",
        "ds = np.abs(ds-np.mean(ds))\n",
        "idc = np.argsort(ds)[:-num_rm]\n",
        "n = len(idc)\n",
        "durations = np.sort(np.array(durations)[idc])\n",
        "\n",
        "mean, std, range_val = np.mean(durations), np.std(durations), np.ptp(durations)\n",
        "\n",
        "fig, (ax1, ax2) = plt.subplots(1, 2, figsize=(16,4))\n",
        "ax1.scatter(np.arange(durations0.shape[0]), durations0/16000)\n",
        "ax1.text(0,1.5, f\"Mean≈{np.around(mean0,2)}\\nStandard Deviation≈{np.around(std0,2)}\\nRange≈{np.around(range_val0,2)}\\nN={durations0.shape[0]}\")\n",
        "ax2.scatter(np.arange(durations.shape[0]), durations/16000)\n",
        "ax2.text(0,2, f\"Mean≈{np.around(mean,2)}\\nStandard Deviation≈{np.around(std,2)}\\nRange≈{np.around(range_val,2)}\\nN={durations.shape[0]}\")\n",
        "#fig.suptitle(\"Distribution of sample lengths with and without outliers\")\n",
        "ax1.title.set_text('Sample lengths before removing outliers')\n",
        "ax2.title.set_text('Sample lengths after removing outliers')\n",
        "fig.savefig(\"Data_Distribution\", dpi=1000)\n",
        "plt.show()\n"
      ]
    },
    {
      "cell_type": "code",
      "execution_count": null,
      "metadata": {
        "colab": {
          "base_uri": "https://localhost:8080/"
        },
        "id": "rvUYbvyB7k1u",
        "outputId": "c38f60d0-493f-49f7-db55-8a59c588057f"
      },
      "outputs": [
        {
          "name": "stderr",
          "output_type": "stream",
          "text": [
            "/usr/local/lib/python3.7/dist-packages/ipykernel_launcher.py:7: VisibleDeprecationWarning: Creating an ndarray from ragged nested sequences (which is a list-or-tuple of lists-or-tuples-or ndarrays with different lengths or shapes) is deprecated. If you meant to do this, you must specify 'dtype=object' when creating the ndarray.\n",
            "  import sys\n"
          ]
        }
      ],
      "source": [
        "name0 = np.array(name)\n",
        "origin0 = np.array(origin)\n",
        "number0 = np.array(number)\n",
        "age0 = np.array(age)\n",
        "id0 = np.array(id)\n",
        "durations0 = np.array(durations)\n",
        "signals0 = np.array(signals)\n",
        "name = name0[idc]\n",
        "origin = origin0[idc]\n",
        "number = number0[idc]\n",
        "age = age0[idc]\n",
        "id = id0[idc]\n",
        "signals = signals0[idc]"
      ]
    },
    {
      "cell_type": "code",
      "execution_count": null,
      "metadata": {
        "colab": {
          "base_uri": "https://localhost:8080/"
        },
        "id": "oWg44qwWrSia",
        "outputId": "5adc6538-93f9-49c9-c5ec-8786dd1a6394"
      },
      "outputs": [
        {
          "name": "stdout",
          "output_type": "stream",
          "text": [
            "Before removing outliers:\n",
            "Total Number of Samples: 1711\n",
            "Number of Japanese Samples: 1173\n",
            "Number of German Samples: 538\n",
            "Total Number of Babies: 63\n",
            "Number of Japanese Babies: 31\n",
            "Number of German Babies: 32\n",
            "Durations of the recordings range from 0.3180625 to 20.36475 seconds.\n",
            "\n",
            "After removing outliers:\n",
            "Total Number of Samples: 1540\n",
            "Number of Japanese Samples: 1052\n",
            "Number of German Samples: 488\n",
            "Total Number of Babies: 63\n",
            "Number of Japanese Babies: 31\n",
            "Number of German Babies: 32\n",
            "Durations of the recordings range from 0.570875 to 2.365125 seconds.\n"
          ]
        }
      ],
      "source": [
        "print(\"Before removing outliers:\")\n",
        "data_statistics(df)\n",
        "print(\"\\nAfter removing outliers:\")\n",
        "data_statistics(df.iloc[idc])"
      ]
    },
    {
      "cell_type": "markdown",
      "metadata": {
        "id": "7GFGaR5CYT2V"
      },
      "source": [
        "## Load the Eval Set"
      ]
    },
    {
      "cell_type": "code",
      "execution_count": null,
      "metadata": {
        "id": "eNMmWvrGdEYt"
      },
      "outputs": [],
      "source": [
        "#Loading the Eval Data\n",
        "max_dur = np.max(durations)\n",
        "min_dur = np.min(durations)\n",
        "\n",
        "signals_eval = []\n",
        "for filename in os.listdir(eval_dir):\n",
        "  path     = eval_dir + '/' + filename\n",
        "  signal,_ = librosa.load(path, sr=sr)\n",
        "  #only append the signal, if it is not an outlier\n",
        "  #All the recordings are German Babies\n",
        "  if min_dur<=len(signal) and len(signal)<=max_dur:\n",
        "    signals_eval.append(signal)"
      ]
    },
    {
      "cell_type": "markdown",
      "metadata": {
        "id": "iC1N3qi2foOA"
      },
      "source": [
        "# Preprocess the data"
      ]
    },
    {
      "cell_type": "markdown",
      "metadata": {
        "id": "qHWn5s3wI9wy"
      },
      "source": [
        "## Data Augmentation"
      ]
    },
    {
      "cell_type": "code",
      "execution_count": null,
      "metadata": {
        "id": "zh1LD3smCwwZ"
      },
      "outputs": [],
      "source": [
        "def stretch(x, size = max_dur):\n",
        "  #x = x.numpy()\n",
        "  rate = min(tf.abs(tf.size(x)/size-1), 0.2)\n",
        "  rate = float(2*rate*random.random()-rate+1)\n",
        "  x = librosa.effects.time_stretch(x, rate)\n",
        "  return tf.convert_to_tensor(x)\n",
        "\n",
        "def random_pad(x, size = max_dur):\n",
        "  n = size-x.shape[0]\n",
        "  y = tf.zeros(n)\n",
        "  x_pad = tf.concat((x, y), axis=0)\n",
        "  return tf.roll(x_pad, shift = random.randint(0,n), axis=0)\n",
        "\n",
        "def add_wn(x):\n",
        "  #Change to Gaussian Noise\n",
        "  wn = tf.random.normal(shape=[x.shape[0]], stddev = 0.2)\n",
        "  return x + 0.05*wn\n",
        "\n",
        "def get_spec(x, sr=16000, mel=True):\n",
        "  if type(x) is not np.ndarray:\n",
        "    x = x.numpy()\n",
        "  S = librosa.feature.melspectrogram(y=x, sr=sr, n_mels=128, fmax=8000) if mel else tf.abs(librosa.stft(x))**2\n",
        "  S_dB = librosa.power_to_db(S, ref=np.max)\n",
        "  S_dB = tf.abs(S_dB)\n",
        "  return tf.experimental.numpy.flipud(S_dB)\n",
        "\n",
        "def preprocess(x, size=max_dur):\n",
        "  x = stretch(x, size)\n",
        "  x = random_pad(x, size)\n",
        "  x = add_wn(x)\n",
        "  return np.array(x)"
      ]
    },
    {
      "cell_type": "code",
      "execution_count": null,
      "metadata": {
        "id": "rpu5SuGhyWVp"
      },
      "outputs": [],
      "source": [
        "#Here we determine the IDs of German and Japanese Babys\n",
        "#Next we assign the Baby Ids to train and dev set\n",
        "\n",
        "#Find the numbers of German and Japanese Babys\n",
        "num_ger = np.unique(number[np.argwhere(origin==0)])\n",
        "num_jap = np.unique(number[np.argwhere(origin==1)])\n",
        "\n",
        "#Split the German Babys into train and dev\n",
        "split_ger = np.arange(num_ger.shape[0])\n",
        "np.random.shuffle(split_ger)\n",
        "num_ger_train, num_ger_dev, num_ger_test = np.split(num_ger[split_ger], [int(0.8*num_ger.shape[0]), int(0.9*num_ger.shape[0])])\n",
        "\n",
        "#Split the Japanese Babys into train and dev\n",
        "split_jap = np.arange(num_jap.shape[0])\n",
        "np.random.shuffle(split_jap)\n",
        "num_jap_train, num_jap_dev, num_jap_test = np.split(num_jap[split_jap], [int(0.8*num_jap.shape[0]), int(0.9*num_jap.shape[0])])\n",
        "\n",
        "\n",
        "ger_train, ger_dev, ger_test, jap_train, jap_dev, jap_test = [],[],[],[],[],[]\n",
        "for idx, sig in enumerate(signals):\n",
        "  if origin[idx] == 0:\n",
        "    if number[idx] in num_ger_train:\n",
        "      ger_train.append(sig)\n",
        "    elif number[idx] in num_ger_dev:\n",
        "      ger_dev.append(sig)\n",
        "    else:\n",
        "      ger_test.append(sig)\n",
        "  else:\n",
        "    if number[idx] in num_jap_train:\n",
        "      jap_train.append(sig)\n",
        "    elif number[idx] in num_jap_dev:\n",
        "      jap_dev.append(sig)\n",
        "    else:\n",
        "      jap_test.append(sig)"
      ]
    },
    {
      "cell_type": "code",
      "execution_count": null,
      "metadata": {
        "colab": {
          "base_uri": "https://localhost:8080/"
        },
        "id": "I20ak1vmDWY3",
        "outputId": "f5dd8ab7-73d4-4a7b-d5cb-19b63ce3660a"
      },
      "outputs": [
        {
          "name": "stdout",
          "output_type": "stream",
          "text": [
            "German Train/Dev/Test samples: (410, 45, 33)\n",
            "Japanese Train/Dev/Test samples: (880, 91, 81)\n"
          ]
        }
      ],
      "source": [
        "print(f\"German Train/Dev/Test samples: {len(ger_train), len(ger_dev), len(ger_test)}\\n\"+\n",
        "      f\"Japanese Train/Dev/Test samples: {len(jap_train), len(jap_dev), len(jap_test)}\")"
      ]
    },
    {
      "cell_type": "code",
      "execution_count": null,
      "metadata": {
        "id": "uR_hTeaA2gXE"
      },
      "outputs": [],
      "source": [
        "#After removing outliers, we have about 1500 Samples.\n",
        "#With an 80/20 train/dev split, this leaves us with about 1200 train samples\n",
        "#We will upsample the train data until we have 5000 samples for each class\n",
        "#We will upsample the dev data until we have equally many samples in both classes"
      ]
    },
    {
      "cell_type": "code",
      "execution_count": null,
      "metadata": {
        "colab": {
          "base_uri": "https://localhost:8080/"
        },
        "id": "NCUw16s21poJ",
        "outputId": "28bde8b9-00c5-42dc-f852-3a936e16f47e"
      },
      "outputs": [
        {
          "name": "stderr",
          "output_type": "stream",
          "text": [
            "/usr/local/lib/python3.7/dist-packages/ipykernel_launcher.py:1: VisibleDeprecationWarning: Creating an ndarray from ragged nested sequences (which is a list-or-tuple of lists-or-tuples-or ndarrays with different lengths or shapes) is deprecated. If you meant to do this, you must specify 'dtype=object' when creating the ndarray.\n",
            "  \"\"\"Entry point for launching an IPython kernel.\n"
          ]
        },
        {
          "data": {
            "text/plain": [
              "(410,)"
            ]
          },
          "execution_count": 14,
          "metadata": {},
          "output_type": "execute_result"
        }
      ],
      "source": [
        "np.array(ger_train).shape\n",
        "#np.array((5*ger_train)[:n_train]).shape"
      ]
    },
    {
      "cell_type": "markdown",
      "metadata": {
        "id": "FmOAJm0U5_Ab"
      },
      "source": [
        "## Create Training Data"
      ]
    },
    {
      "cell_type": "code",
      "execution_count": null,
      "metadata": {
        "colab": {
          "background_save": true
        },
        "id": "s9bPJu7W3ZWw"
      },
      "outputs": [],
      "source": [
        "#Number and duration of samples\n",
        "length  = int(max_dur * 1.2)\n",
        "n_train = 1200\n",
        "\n",
        "#Preprocess the German and Japanese training samples\n",
        "X_train_ger = [preprocess(sig, length) for sig in ((5*ger_train)[:n_train])]\n",
        "X_train_jap = [preprocess(sig, length) for sig in (5*jap_train)[:n_train]]\n",
        "\n",
        "#Create the X_train and y_train arrays\n",
        "X_train_split = np.arange(2*n_train)\n",
        "np.random.shuffle(X_train_split)\n",
        "X_train = np.zeros((2*n_train, length))\n",
        "y_train = np.zeros(2*n_train)\n",
        "X_train[X_train_split[:n_train]] = X_train_ger\n",
        "X_train[X_train_split[n_train:]] = X_train_jap\n",
        "y_train[X_train_split[n_train:]] = 1\n",
        "\n",
        "#Create the spectrogram for training samples\n",
        "specs_train = np.array([get_spec(x)[:120] for x in X_train])\n",
        "\n",
        "#Create the f0 values for the training samples\n",
        "f0s_train    = []\n",
        "for x in X_train:\n",
        "  f0, valids, _ = librosa.pyin(x, librosa.note_to_hz('C2'), librosa.note_to_hz('C7'))\n",
        "  f0s_train.append(f0[valids])\n",
        "\n",
        "max_f0 = int(np.max([f0.shape[0] for f0 in f0s_train])*1.2)\n",
        "fs_train = np.zeros((X_train.shape[0], max_f0))\n",
        "\n",
        "for idx, f0 in enumerate(f0s_train):\n",
        "  f = random_pad(tf.convert_to_tensor(f0, 'float32'), max_f0)\n",
        "  fs_train[idx] = f\n"
      ]
    },
    {
      "cell_type": "markdown",
      "metadata": {
        "id": "ks1OjC_F6CNY"
      },
      "source": [
        "## Create Development Data"
      ]
    },
    {
      "cell_type": "code",
      "execution_count": null,
      "metadata": {
        "colab": {
          "background_save": true
        },
        "id": "ZB0ZNiq46G08"
      },
      "outputs": [],
      "source": [
        "#Preprocess the German and Japanese dev samples\n",
        "n_dev = max(len(ger_dev), len(jap_dev))\n",
        "X_dev_ger = np.array([preprocess(sig, length) for sig in ((5*ger_dev)[:n_dev])])\n",
        "X_dev_jap = np.array([preprocess(sig, length) for sig in (5*jap_dev)[:n_dev]])\n",
        "\n",
        "#Create the spectrogram for dev samples\n",
        "specs_dev_ger = np.array([get_spec(x)[:120] for x in X_dev_ger])\n",
        "specs_dev_jap = np.array([get_spec(x)[:120] for x in X_dev_jap])\n",
        "\n",
        "#Create the f0 values for the development samples\n",
        "f0s_dev_ger    = []\n",
        "f0s_dev_jap    = []\n",
        "\n",
        "for x in X_dev_ger:\n",
        "  f0, valids, _ = librosa.pyin(x, librosa.note_to_hz('C2'), librosa.note_to_hz('C7'))\n",
        "  f0s_dev_ger.append(f0[valids])\n",
        "\n",
        "for x in X_dev_jap:\n",
        "  f0, valids, _ = librosa.pyin(x, librosa.note_to_hz('C2'), librosa.note_to_hz('C7'))\n",
        "  f0s_dev_jap.append(f0[valids])\n",
        "\n",
        "fs_dev_ger = np.zeros((X_dev_ger.shape[0], max_f0))\n",
        "fs_dev_jap = np.zeros((X_dev_jap.shape[0], max_f0))\n",
        "\n",
        "\n",
        "for idx, f0 in enumerate(f0s_dev_ger):\n",
        "  f = random_pad(tf.convert_to_tensor(f0, 'float32'), max_f0)\n",
        "  fs_dev_ger[idx] = f\n",
        "\n",
        "for idx, f0 in enumerate(f0s_dev_jap):\n",
        "  f = random_pad(tf.convert_to_tensor(f0, 'float32'), max_f0)\n",
        "  fs_dev_jap[idx] = f"
      ]
    },
    {
      "cell_type": "markdown",
      "metadata": {
        "id": "p26VKSwgdUPs"
      },
      "source": [
        "## Create Test Data"
      ]
    },
    {
      "cell_type": "code",
      "execution_count": null,
      "metadata": {
        "colab": {
          "background_save": true
        },
        "id": "8tcAvLPbdXo4"
      },
      "outputs": [],
      "source": [
        "#Preprocess the German and Japanese test samples\n",
        "n_test = max(len(ger_test), len(jap_test))\n",
        "X_test_ger = np.array([preprocess(sig, length) for sig in ((5*ger_test)[:n_test])])\n",
        "X_test_jap = np.array([preprocess(sig, length) for sig in (5*jap_test)[:n_test]])\n",
        "\n",
        "#Create the spectrogram for test samples\n",
        "specs_test_ger = np.array([get_spec(x)[:120] for x in X_test_ger])\n",
        "specs_test_jap = np.array([get_spec(x)[:120] for x in X_test_jap])\n",
        "\n",
        "#Create the f0 values for the test samples\n",
        "f0s_test_ger    = []\n",
        "f0s_test_jap    = []\n",
        "\n",
        "for x in X_test_ger:\n",
        "  f0, valids, _ = librosa.pyin(x, librosa.note_to_hz('C2'), librosa.note_to_hz('C7'))\n",
        "  f0s_test_ger.append(f0[valids])\n",
        "\n",
        "for x in X_test_jap:\n",
        "  f0, valids, _ = librosa.pyin(x, librosa.note_to_hz('C2'), librosa.note_to_hz('C7'))\n",
        "  f0s_test_jap.append(f0[valids])\n",
        "\n",
        "fs_test_ger = np.zeros((X_test_ger.shape[0], max_f0))\n",
        "fs_test_jap = np.zeros((X_test_jap.shape[0], max_f0))\n",
        "\n",
        "\n",
        "for idx, f0 in enumerate(f0s_test_ger):\n",
        "  f = random_pad(tf.convert_to_tensor(f0, 'float32'), max_f0)\n",
        "  fs_test_ger[idx] = f\n",
        "\n",
        "for idx, f0 in enumerate(f0s_test_jap):\n",
        "  f = random_pad(tf.convert_to_tensor(f0, 'float32'), max_f0)\n",
        "  fs_test_jap[idx] = f"
      ]
    },
    {
      "cell_type": "markdown",
      "metadata": {
        "id": "EO6KobzJ6Uqp"
      },
      "source": [
        "## Create Evaluation Data"
      ]
    },
    {
      "cell_type": "code",
      "execution_count": null,
      "metadata": {
        "colab": {
          "background_save": true
        },
        "id": "xkkmySD86Wps"
      },
      "outputs": [],
      "source": [
        "#Preprocess the eval samples\n",
        "X_eval = np.array([preprocess(sig, length) for sig in signals_eval])\n",
        "\n",
        "#Create the spectrogram for eval samples\n",
        "specs_eval = np.array([get_spec(x)[:120] for x in X_eval])\n",
        "\n",
        "#Create the f0 values for the eval samples\n",
        "f0s_eval    = []\n",
        "for x in X_eval:\n",
        "  f0, valids, _ = librosa.pyin(x, librosa.note_to_hz('C2'), librosa.note_to_hz('C7'))\n",
        "  f0s_eval.append(f0[valids])\n",
        "\n",
        "fs_eval = np.zeros((X_eval.shape[0], max_f0))\n",
        "\n",
        "for idx, f0 in enumerate(f0s_eval):\n",
        "  f = random_pad(tf.convert_to_tensor(f0, 'float32'), max_f0)\n",
        "  fs_eval[idx] = f"
      ]
    },
    {
      "cell_type": "markdown",
      "metadata": {
        "id": "zfje4TgtJosG"
      },
      "source": [
        "# Save / Load Processed Data"
      ]
    },
    {
      "cell_type": "code",
      "execution_count": null,
      "metadata": {
        "id": "GqAF_UYRJs5o"
      },
      "outputs": [],
      "source": [
        "#We use json to save the spectrograms and f0s of the produced data in order to avoid computing them every time we use the notebook.\n",
        "#Helper functions\n",
        "def save(data, filename):\n",
        "    if type(data) is np.ndarray:\n",
        "      data = data.tolist()\n",
        "    with open(filename, 'w') as f:\n",
        "        json.dump(data, f, ensure_ascii=False)\n",
        "        \n",
        "def load(filename):\n",
        "    with open(filename) as data:\n",
        "        x = json.load(data)\n",
        "    return np.array(x)"
      ]
    },
    {
      "cell_type": "code",
      "execution_count": null,
      "metadata": {
        "id": "gvcGR2fc8Cyg"
      },
      "outputs": [],
      "source": [
        "#Saving the spectrograms\n",
        "save(specs_train, \"/content/drive/My Drive/infant_cries/data_js_final/specs_train.json\")\n",
        "save(y_train, \"/content/drive/My Drive/infant_cries/data_js_final/y_train.json\")\n",
        "save(specs_dev_ger, \"/content/drive/My Drive/infant_cries/data_js_final/specs_dev_ger.json\")\n",
        "save(specs_dev_jap, \"/content/drive/My Drive/infant_cries/data_js_final/specs_dev_jap.json\")\n",
        "save(specs_test_ger, \"/content/drive/My Drive/infant_cries/data_js_final/specs_test_ger.json\")\n",
        "save(specs_test_jap, \"/content/drive/My Drive/infant_cries/data_js_final/specs_test_jap.json\")\n",
        "save(specs_eval, \"/content/drive/My Drive/infant_cries/data_js_final/specs_eval.json\")"
      ]
    },
    {
      "cell_type": "code",
      "execution_count": null,
      "metadata": {
        "id": "Na6XbuAqKDAM"
      },
      "outputs": [],
      "source": [
        "#Saving the f0s\n",
        "save(fs_train, \"/content/drive/My Drive/infant_cries/data_js_final/fs_train.json\")\n",
        "save(fs_dev_ger, \"/content/drive/My Drive/infant_cries/data_js_final/fs_dev_ger.json\")\n",
        "save(fs_dev_jap, \"/content/drive/My Drive/infant_cries/data_js_final/fs_dev_jap.json\")\n",
        "save(fs_test_ger, \"/content/drive/My Drive/infant_cries/data_js_final/fs_test_ger.json\")\n",
        "save(fs_test_jap, \"/content/drive/My Drive/infant_cries/data_js_final/fs_test_jap.json\")\n",
        "save(fs_eval, \"/content/drive/My Drive/infant_cries/data_js_final/fs_eval.json\")"
      ]
    },
    {
      "cell_type": "code",
      "execution_count": null,
      "metadata": {
        "id": "DQIoGYymHdEQ"
      },
      "outputs": [],
      "source": [
        "#Saving the wavs\n",
        "save(X_train, \"/content/drive/My Drive/infant_cries/data_js_final/X_train.json\")\n",
        "save(X_dev_ger, \"/content/drive/My Drive/infant_cries/data_js_final/X_dev_ger.json\")\n",
        "save(X_dev_jap, \"/content/drive/My Drive/infant_cries/data_js_final/X_dev_jap.json\")\n",
        "save(X_test_ger, \"/content/drive/My Drive/infant_cries/data_js_final/X_test_ger.json\")\n",
        "save(X_test_jap, \"/content/drive/My Drive/infant_cries/data_js_final/X_test_jap.json\")\n",
        "save(X_eval, \"/content/drive/My Drive/infant_cries/data_js_final/X_eval.json\")"
      ]
    }
  ],
  "metadata": {
    "accelerator": "GPU",
    "colab": {
      "background_execution": "on",
      "collapsed_sections": [
        "5CCC5Rin2mcw",
        "TIH0OL0m5-d8",
        "HwAX5zr9C2ff",
        "lBnZz05mOuAy",
        "hI_mbd5YFcl_"
      ],
      "machine_shape": "hm",
      "toc_visible": true,
      "provenance": []
    },
    "gpuClass": "standard",
    "kernelspec": {
      "display_name": "Python 3",
      "name": "python3"
    },
    "language_info": {
      "name": "python"
    }
  },
  "nbformat": 4,
  "nbformat_minor": 0
}